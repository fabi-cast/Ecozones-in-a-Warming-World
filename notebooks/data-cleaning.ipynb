{
 "cells": [
  {
   "cell_type": "markdown",
   "metadata": {},
   "source": [
    "# Nature in a warming World - Data wrangling\n",
    "\n",
    "This notebook shows the extraction and cleaning of data used in our project.\n",
    "\n",
    "## Data Sources\n",
    "\n",
    "**1. International Union for Conservation of Nature [IUCN RED List API -v3](https://apiv3.iucnredlist.org/api/v3/docs)**: Threatened species around the World data. In order to access the data it is necessary to ask for a token.\n",
    "\n",
    "**2. [World Bank: Climate change knowdledge portal](https://climateknowledgeportal.worldbank.org)**: Climate change related variables, precipitation and average temperatures monthly and yearly for each country.\n",
    "\n",
    "**3. [National Centers for Environmental Information](https://www.ncdc.noaa.gov/cag/)**: Temperature Anomalies dataset.\n",
    "\n",
    "**4. [EONET API v.2.1](https://eonet.sci.gsfc.nasa.gov/docs/v2.1)**: Natural events ocurrences around the World.\n",
    "\n",
    "**5. [NASA Climate](https://climate.nasa.gov/vital-signs/sea-level/)**: Sea level rising measurements."
   ]
  },
  {
   "cell_type": "markdown",
   "metadata": {},
   "source": [
    "# Importing libraries"
   ]
  },
  {
   "cell_type": "code",
   "execution_count": 1,
   "metadata": {},
   "outputs": [],
   "source": [
    "import pandas as pd\n",
    "from pandas import ExcelFile\n",
    "import numpy as np\n",
    "import re\n",
    "import math\n",
    "import requests\n",
    "import json\n",
    "import geopip\n",
    "import scipy.stats as ss\n",
    "import geopandas as gpd\n",
    "import getpass\n",
    "\n",
    "from datetime import datetime\n",
    "\n",
    "pd.set_option('display.max_columns', None)"
   ]
  },
  {
   "cell_type": "markdown",
   "metadata": {},
   "source": [
    "# 1. Data Extraction\n",
    "\n",
    "First, we introduce a function useful for data cleaning process ahead."
   ]
  },
  {
   "cell_type": "code",
   "execution_count": 2,
   "metadata": {},
   "outputs": [],
   "source": [
    "def null_cols(data):\n",
    "    \n",
    "    \"\"\"\n",
    "    This function takes a dataframe df and shows the columns of df that have NaN values\n",
    "    and the number of them\n",
    "    \n",
    "    \"\"\"\n",
    "    \n",
    "    nulls = data.isna().sum()\n",
    "    return nulls[nulls > 0] / len(data) * 100"
   ]
  },
  {
   "cell_type": "markdown",
   "metadata": {},
   "source": [
    "## 1.1. IUCN Red List data set\n",
    "\n",
    "Because of copyright reasons, we could not extract all the information related to Bird species from the IUCN API. Then, we will use species datasets obtained via FTP from the IUCN and then complete this data with the API."
   ]
  },
  {
   "cell_type": "code",
   "execution_count": 11,
   "metadata": {},
   "outputs": [],
   "source": [
    "def collect(file):\n",
    "    \"\"\"\n",
    "    Returns a dataset with all the 'file' data of the Critical endangered species\n",
    "    \"\"\"\n",
    "    c0 = pd.read_csv(\"data/CR/\"+ file +\".csv\")\n",
    "    c1 = pd.read_csv(\"data/Extinct/\" + file +\".csv\")\n",
    "    c2 = pd.read_csv(\"data/rest/\" + file +\".csv\")\n",
    "\n",
    "    return pd.concat([c0, c1, c2])"
   ]
  },
  {
   "cell_type": "markdown",
   "metadata": {},
   "source": [
    "We collect the ``assessments`` and ``countries`` files by using the function above:"
   ]
  },
  {
   "cell_type": "code",
   "execution_count": 19,
   "metadata": {},
   "outputs": [],
   "source": [
    "assessments = collect(\"assessments\")\n",
    "iucnCountries = collect(\"countries\")\n",
    "taxons= collect(\"taxonomy\")"
   ]
  },
  {
   "cell_type": "markdown",
   "metadata": {},
   "source": [
    "Having a look to our datasets:"
   ]
  },
  {
   "cell_type": "code",
   "execution_count": 20,
   "metadata": {},
   "outputs": [
    {
     "data": {
      "text/html": [
       "<div>\n",
       "<style scoped>\n",
       "    .dataframe tbody tr th:only-of-type {\n",
       "        vertical-align: middle;\n",
       "    }\n",
       "\n",
       "    .dataframe tbody tr th {\n",
       "        vertical-align: top;\n",
       "    }\n",
       "\n",
       "    .dataframe thead th {\n",
       "        text-align: right;\n",
       "    }\n",
       "</style>\n",
       "<table border=\"1\" class=\"dataframe\">\n",
       "  <thead>\n",
       "    <tr style=\"text-align: right;\">\n",
       "      <th></th>\n",
       "      <th>assessmentId</th>\n",
       "      <th>internalTaxonId</th>\n",
       "      <th>scientificName</th>\n",
       "      <th>redlistCategory</th>\n",
       "      <th>redlistCriteria</th>\n",
       "      <th>yearPublished</th>\n",
       "      <th>assessmentDate</th>\n",
       "      <th>criteriaVersion</th>\n",
       "      <th>language</th>\n",
       "      <th>rationale</th>\n",
       "      <th>habitat</th>\n",
       "      <th>threats</th>\n",
       "      <th>population</th>\n",
       "      <th>populationTrend</th>\n",
       "      <th>range</th>\n",
       "      <th>useTrade</th>\n",
       "      <th>systems</th>\n",
       "      <th>conservationActions</th>\n",
       "      <th>realm</th>\n",
       "      <th>yearLastSeen</th>\n",
       "      <th>possiblyExtinct</th>\n",
       "      <th>possiblyExtinctInTheWild</th>\n",
       "      <th>scopes</th>\n",
       "    </tr>\n",
       "  </thead>\n",
       "  <tbody>\n",
       "    <tr>\n",
       "      <td>0</td>\n",
       "      <td>497499</td>\n",
       "      <td>132523146</td>\n",
       "      <td>Hubbsina turneri</td>\n",
       "      <td>Critically Endangered</td>\n",
       "      <td>B1ab(i,ii,iii,iv)+2ab(i,ii,iii,iv)</td>\n",
       "      <td>2019</td>\n",
       "      <td>2018-04-17 00:00:00 UTC</td>\n",
       "      <td>3.1</td>\n",
       "      <td>English</td>\n",
       "      <td>The Highland Splitfin is now only known to be ...</td>\n",
       "      <td>&lt;p&gt;This species lives in quiet waters with cur...</td>\n",
       "      <td>The species has a restricted range and it is t...</td>\n",
       "      <td>The only remaining population, that of Lago Za...</td>\n",
       "      <td>Decreasing</td>\n",
       "      <td>The Highland Splitfin is a freshwater fish spe...</td>\n",
       "      <td>The Highland Splitfin is not a target species ...</td>\n",
       "      <td>Freshwater (=Inland waters)</td>\n",
       "      <td>No conservation actions targeting&amp;#160;&lt;em&gt;Hub...</td>\n",
       "      <td>Neotropical</td>\n",
       "      <td>NaN</td>\n",
       "      <td>False</td>\n",
       "      <td>False</td>\n",
       "      <td>Global</td>\n",
       "    </tr>\n",
       "    <tr>\n",
       "      <td>1</td>\n",
       "      <td>500479</td>\n",
       "      <td>11058</td>\n",
       "      <td>Kubaryia pilikia</td>\n",
       "      <td>Critically Endangered</td>\n",
       "      <td>B1ab(iii)</td>\n",
       "      <td>2012</td>\n",
       "      <td>2011-08-22 00:00:00 UTC</td>\n",
       "      <td>3.1</td>\n",
       "      <td>English</td>\n",
       "      <td>&lt;p&gt;&lt;em&gt;&lt;span lang=\"EN-US\"&gt;&lt;/em&gt;&lt;span lang=\"EN-...</td>\n",
       "      <td>This species of snail is ground-dwelling and h...</td>\n",
       "      <td>&lt;p&gt;&lt;span lang=\"EN-US\"&gt;This species is threaten...</td>\n",
       "      <td>There is no information available on this spec...</td>\n",
       "      <td>Unknown</td>\n",
       "      <td>&lt;p&gt;&lt;span lang=\"EN-US\"&gt;The geographic range of ...</td>\n",
       "      <td>This species is not utilized.</td>\n",
       "      <td>Terrestrial</td>\n",
       "      <td>&lt;span lang=\"EN-US\"&gt;&lt;span lang=\"EN-US\"&gt;Field wo...</td>\n",
       "      <td>Oceanian</td>\n",
       "      <td>2003</td>\n",
       "      <td>True</td>\n",
       "      <td>False</td>\n",
       "      <td>Global</td>\n",
       "    </tr>\n",
       "  </tbody>\n",
       "</table>\n",
       "</div>"
      ],
      "text/plain": [
       "   assessmentId  internalTaxonId    scientificName        redlistCategory  \\\n",
       "0        497499        132523146  Hubbsina turneri  Critically Endangered   \n",
       "1        500479            11058  Kubaryia pilikia  Critically Endangered   \n",
       "\n",
       "                      redlistCriteria  yearPublished           assessmentDate  \\\n",
       "0  B1ab(i,ii,iii,iv)+2ab(i,ii,iii,iv)           2019  2018-04-17 00:00:00 UTC   \n",
       "1                           B1ab(iii)           2012  2011-08-22 00:00:00 UTC   \n",
       "\n",
       "   criteriaVersion language  \\\n",
       "0              3.1  English   \n",
       "1              3.1  English   \n",
       "\n",
       "                                           rationale  \\\n",
       "0  The Highland Splitfin is now only known to be ...   \n",
       "1  <p><em><span lang=\"EN-US\"></em><span lang=\"EN-...   \n",
       "\n",
       "                                             habitat  \\\n",
       "0  <p>This species lives in quiet waters with cur...   \n",
       "1  This species of snail is ground-dwelling and h...   \n",
       "\n",
       "                                             threats  \\\n",
       "0  The species has a restricted range and it is t...   \n",
       "1  <p><span lang=\"EN-US\">This species is threaten...   \n",
       "\n",
       "                                          population populationTrend  \\\n",
       "0  The only remaining population, that of Lago Za...      Decreasing   \n",
       "1  There is no information available on this spec...         Unknown   \n",
       "\n",
       "                                               range  \\\n",
       "0  The Highland Splitfin is a freshwater fish spe...   \n",
       "1  <p><span lang=\"EN-US\">The geographic range of ...   \n",
       "\n",
       "                                            useTrade  \\\n",
       "0  The Highland Splitfin is not a target species ...   \n",
       "1                      This species is not utilized.   \n",
       "\n",
       "                       systems  \\\n",
       "0  Freshwater (=Inland waters)   \n",
       "1                  Terrestrial   \n",
       "\n",
       "                                 conservationActions        realm  \\\n",
       "0  No conservation actions targeting&#160;<em>Hub...  Neotropical   \n",
       "1  <span lang=\"EN-US\"><span lang=\"EN-US\">Field wo...     Oceanian   \n",
       "\n",
       "  yearLastSeen  possiblyExtinct  possiblyExtinctInTheWild  scopes  \n",
       "0          NaN            False                     False  Global  \n",
       "1         2003             True                     False  Global  "
      ]
     },
     "execution_count": 20,
     "metadata": {},
     "output_type": "execute_result"
    }
   ],
   "source": [
    "assessments.head(2)"
   ]
  },
  {
   "cell_type": "code",
   "execution_count": 21,
   "metadata": {
    "scrolled": true
   },
   "outputs": [
    {
     "data": {
      "text/html": [
       "<div>\n",
       "<style scoped>\n",
       "    .dataframe tbody tr th:only-of-type {\n",
       "        vertical-align: middle;\n",
       "    }\n",
       "\n",
       "    .dataframe tbody tr th {\n",
       "        vertical-align: top;\n",
       "    }\n",
       "\n",
       "    .dataframe thead th {\n",
       "        text-align: right;\n",
       "    }\n",
       "</style>\n",
       "<table border=\"1\" class=\"dataframe\">\n",
       "  <thead>\n",
       "    <tr style=\"text-align: right;\">\n",
       "      <th></th>\n",
       "      <th>assessmentId</th>\n",
       "      <th>internalTaxonId</th>\n",
       "      <th>scientificName</th>\n",
       "      <th>code</th>\n",
       "      <th>name</th>\n",
       "      <th>presence</th>\n",
       "      <th>origin</th>\n",
       "      <th>seasonality</th>\n",
       "      <th>formerlyBred</th>\n",
       "    </tr>\n",
       "  </thead>\n",
       "  <tbody>\n",
       "    <tr>\n",
       "      <td>0</td>\n",
       "      <td>500479</td>\n",
       "      <td>11058</td>\n",
       "      <td>Kubaryia pilikia</td>\n",
       "      <td>PW</td>\n",
       "      <td>Palau</td>\n",
       "      <td>Possibly Extinct</td>\n",
       "      <td>Native</td>\n",
       "      <td>NaN</td>\n",
       "      <td>NaN</td>\n",
       "    </tr>\n",
       "    <tr>\n",
       "      <td>1</td>\n",
       "      <td>502298</td>\n",
       "      <td>11256</td>\n",
       "      <td>Obovaria haddletoni</td>\n",
       "      <td>US</td>\n",
       "      <td>United States</td>\n",
       "      <td>Possibly Extinct</td>\n",
       "      <td>Native</td>\n",
       "      <td>NaN</td>\n",
       "      <td>NaN</td>\n",
       "    </tr>\n",
       "  </tbody>\n",
       "</table>\n",
       "</div>"
      ],
      "text/plain": [
       "   assessmentId  internalTaxonId       scientificName code           name  \\\n",
       "0        500479            11058     Kubaryia pilikia   PW          Palau   \n",
       "1        502298            11256  Obovaria haddletoni   US  United States   \n",
       "\n",
       "           presence  origin seasonality formerlyBred  \n",
       "0  Possibly Extinct  Native         NaN          NaN  \n",
       "1  Possibly Extinct  Native         NaN          NaN  "
      ]
     },
     "execution_count": 21,
     "metadata": {},
     "output_type": "execute_result"
    }
   ],
   "source": [
    "iucnCountries.head(2)"
   ]
  },
  {
   "cell_type": "code",
   "execution_count": 22,
   "metadata": {},
   "outputs": [
    {
     "data": {
      "text/html": [
       "<div>\n",
       "<style scoped>\n",
       "    .dataframe tbody tr th:only-of-type {\n",
       "        vertical-align: middle;\n",
       "    }\n",
       "\n",
       "    .dataframe tbody tr th {\n",
       "        vertical-align: top;\n",
       "    }\n",
       "\n",
       "    .dataframe thead th {\n",
       "        text-align: right;\n",
       "    }\n",
       "</style>\n",
       "<table border=\"1\" class=\"dataframe\">\n",
       "  <thead>\n",
       "    <tr style=\"text-align: right;\">\n",
       "      <th></th>\n",
       "      <th>internalTaxonId</th>\n",
       "      <th>scientificName</th>\n",
       "      <th>kingdomName</th>\n",
       "      <th>phylumName</th>\n",
       "      <th>orderName</th>\n",
       "      <th>className</th>\n",
       "      <th>familyName</th>\n",
       "      <th>genusName</th>\n",
       "      <th>speciesName</th>\n",
       "      <th>infraType</th>\n",
       "      <th>infraName</th>\n",
       "      <th>infraAuthority</th>\n",
       "      <th>subpopulationName</th>\n",
       "      <th>authority</th>\n",
       "      <th>taxonomicNotes</th>\n",
       "    </tr>\n",
       "  </thead>\n",
       "  <tbody>\n",
       "    <tr>\n",
       "      <td>0</td>\n",
       "      <td>132523146</td>\n",
       "      <td>Hubbsina turneri</td>\n",
       "      <td>ANIMALIA</td>\n",
       "      <td>CHORDATA</td>\n",
       "      <td>CYPRINODONTIFORMES</td>\n",
       "      <td>ACTINOPTERYGII</td>\n",
       "      <td>GOODEIDAE</td>\n",
       "      <td>Hubbsina</td>\n",
       "      <td>turneri</td>\n",
       "      <td>NaN</td>\n",
       "      <td>NaN</td>\n",
       "      <td>NaN</td>\n",
       "      <td>NaN</td>\n",
       "      <td>(de Buen, 1940)</td>\n",
       "      <td>Fernando de Buén described&lt;em&gt;&amp;#160;Hubbsina t...</td>\n",
       "    </tr>\n",
       "    <tr>\n",
       "      <td>1</td>\n",
       "      <td>11058</td>\n",
       "      <td>Kubaryia pilikia</td>\n",
       "      <td>ANIMALIA</td>\n",
       "      <td>MOLLUSCA</td>\n",
       "      <td>LITTORINIMORPHA</td>\n",
       "      <td>GASTROPODA</td>\n",
       "      <td>ASSIMINEIDAE</td>\n",
       "      <td>Kubaryia</td>\n",
       "      <td>pilikia</td>\n",
       "      <td>NaN</td>\n",
       "      <td>NaN</td>\n",
       "      <td>NaN</td>\n",
       "      <td>NaN</td>\n",
       "      <td>Clench, 1948</td>\n",
       "      <td>NaN</td>\n",
       "    </tr>\n",
       "  </tbody>\n",
       "</table>\n",
       "</div>"
      ],
      "text/plain": [
       "   internalTaxonId    scientificName kingdomName phylumName  \\\n",
       "0        132523146  Hubbsina turneri    ANIMALIA   CHORDATA   \n",
       "1            11058  Kubaryia pilikia    ANIMALIA   MOLLUSCA   \n",
       "\n",
       "            orderName       className    familyName genusName speciesName  \\\n",
       "0  CYPRINODONTIFORMES  ACTINOPTERYGII     GOODEIDAE  Hubbsina     turneri   \n",
       "1     LITTORINIMORPHA      GASTROPODA  ASSIMINEIDAE  Kubaryia     pilikia   \n",
       "\n",
       "   infraType  infraName  infraAuthority  subpopulationName        authority  \\\n",
       "0        NaN        NaN             NaN                NaN  (de Buen, 1940)   \n",
       "1        NaN        NaN             NaN                NaN     Clench, 1948   \n",
       "\n",
       "                                      taxonomicNotes  \n",
       "0  Fernando de Buén described<em>&#160;Hubbsina t...  \n",
       "1                                                NaN  "
      ]
     },
     "execution_count": 22,
     "metadata": {},
     "output_type": "execute_result"
    }
   ],
   "source": [
    "taxons.head(2)"
   ]
  },
  {
   "cell_type": "markdown",
   "metadata": {},
   "source": [
    "From now on we will work on a copy of ``assessments`` dataset."
   ]
  },
  {
   "cell_type": "code",
   "execution_count": 25,
   "metadata": {},
   "outputs": [],
   "source": [
    "df = assessments.copy()\n",
    "\n",
    "# selecting relevant columns\n",
    "df = df[['assessmentId', 'internalTaxonId', 'scientificName', 'redlistCategory',\n",
    "       'yearPublished', 'assessmentDate', 'populationTrend', 'systems',\n",
    "        'realm','scopes']]\n",
    "\n",
    "#merging the taxon and assessments data\n",
    "df = df.merge(taxons[[\"internalTaxonId\", \"kingdomName\", \"className\"]], on = \"internalTaxonId\", how = \"left\")"
   ]
  },
  {
   "cell_type": "code",
   "execution_count": 26,
   "metadata": {},
   "outputs": [
    {
     "data": {
      "text/html": [
       "<div>\n",
       "<style scoped>\n",
       "    .dataframe tbody tr th:only-of-type {\n",
       "        vertical-align: middle;\n",
       "    }\n",
       "\n",
       "    .dataframe tbody tr th {\n",
       "        vertical-align: top;\n",
       "    }\n",
       "\n",
       "    .dataframe thead th {\n",
       "        text-align: right;\n",
       "    }\n",
       "</style>\n",
       "<table border=\"1\" class=\"dataframe\">\n",
       "  <thead>\n",
       "    <tr style=\"text-align: right;\">\n",
       "      <th></th>\n",
       "      <th>assessmentId</th>\n",
       "      <th>internalTaxonId</th>\n",
       "      <th>scientificName</th>\n",
       "      <th>redlistCategory</th>\n",
       "      <th>yearPublished</th>\n",
       "      <th>assessmentDate</th>\n",
       "      <th>populationTrend</th>\n",
       "      <th>systems</th>\n",
       "      <th>realm</th>\n",
       "      <th>scopes</th>\n",
       "      <th>kingdomName</th>\n",
       "      <th>className</th>\n",
       "    </tr>\n",
       "  </thead>\n",
       "  <tbody>\n",
       "    <tr>\n",
       "      <td>0</td>\n",
       "      <td>497499</td>\n",
       "      <td>132523146</td>\n",
       "      <td>Hubbsina turneri</td>\n",
       "      <td>Critically Endangered</td>\n",
       "      <td>2019</td>\n",
       "      <td>2018-04-17 00:00:00 UTC</td>\n",
       "      <td>Decreasing</td>\n",
       "      <td>Freshwater (=Inland waters)</td>\n",
       "      <td>Neotropical</td>\n",
       "      <td>Global</td>\n",
       "      <td>ANIMALIA</td>\n",
       "      <td>ACTINOPTERYGII</td>\n",
       "    </tr>\n",
       "    <tr>\n",
       "      <td>1</td>\n",
       "      <td>500479</td>\n",
       "      <td>11058</td>\n",
       "      <td>Kubaryia pilikia</td>\n",
       "      <td>Critically Endangered</td>\n",
       "      <td>2012</td>\n",
       "      <td>2011-08-22 00:00:00 UTC</td>\n",
       "      <td>Unknown</td>\n",
       "      <td>Terrestrial</td>\n",
       "      <td>Oceanian</td>\n",
       "      <td>Global</td>\n",
       "      <td>ANIMALIA</td>\n",
       "      <td>GASTROPODA</td>\n",
       "    </tr>\n",
       "  </tbody>\n",
       "</table>\n",
       "</div>"
      ],
      "text/plain": [
       "   assessmentId  internalTaxonId    scientificName        redlistCategory  \\\n",
       "0        497499        132523146  Hubbsina turneri  Critically Endangered   \n",
       "1        500479            11058  Kubaryia pilikia  Critically Endangered   \n",
       "\n",
       "   yearPublished           assessmentDate populationTrend  \\\n",
       "0           2019  2018-04-17 00:00:00 UTC      Decreasing   \n",
       "1           2012  2011-08-22 00:00:00 UTC         Unknown   \n",
       "\n",
       "                       systems        realm  scopes kingdomName  \\\n",
       "0  Freshwater (=Inland waters)  Neotropical  Global    ANIMALIA   \n",
       "1                  Terrestrial     Oceanian  Global    ANIMALIA   \n",
       "\n",
       "        className  \n",
       "0  ACTINOPTERYGII  \n",
       "1      GASTROPODA  "
      ]
     },
     "execution_count": 26,
     "metadata": {},
     "output_type": "execute_result"
    }
   ],
   "source": [
    "df.head(2)"
   ]
  },
  {
   "cell_type": "code",
   "execution_count": 28,
   "metadata": {},
   "outputs": [
    {
     "data": {
      "text/plain": [
       "(29284, 12)"
      ]
     },
     "execution_count": 28,
     "metadata": {},
     "output_type": "execute_result"
    }
   ],
   "source": [
    "df.shape"
   ]
  },
  {
   "cell_type": "code",
   "execution_count": 36,
   "metadata": {},
   "outputs": [],
   "source": [
    "iucnCountries.drop_duplicates(inplace = True)"
   ]
  },
  {
   "cell_type": "code",
   "execution_count": 40,
   "metadata": {},
   "outputs": [],
   "source": [
    "dfen = iucnCountries.merge(df, on= [\"assessmentId\", \"internalTaxonId\", \"scientificName\"], how = \"left\")"
   ]
  },
  {
   "cell_type": "code",
   "execution_count": 43,
   "metadata": {},
   "outputs": [
    {
     "data": {
      "text/html": [
       "<div>\n",
       "<style scoped>\n",
       "    .dataframe tbody tr th:only-of-type {\n",
       "        vertical-align: middle;\n",
       "    }\n",
       "\n",
       "    .dataframe tbody tr th {\n",
       "        vertical-align: top;\n",
       "    }\n",
       "\n",
       "    .dataframe thead th {\n",
       "        text-align: right;\n",
       "    }\n",
       "</style>\n",
       "<table border=\"1\" class=\"dataframe\">\n",
       "  <thead>\n",
       "    <tr style=\"text-align: right;\">\n",
       "      <th></th>\n",
       "      <th>assessmentId</th>\n",
       "      <th>internalTaxonId</th>\n",
       "      <th>scientificName</th>\n",
       "      <th>code</th>\n",
       "      <th>name</th>\n",
       "      <th>presence</th>\n",
       "      <th>origin</th>\n",
       "      <th>seasonality</th>\n",
       "      <th>formerlyBred</th>\n",
       "      <th>redlistCategory</th>\n",
       "      <th>yearPublished</th>\n",
       "      <th>assessmentDate</th>\n",
       "      <th>populationTrend</th>\n",
       "      <th>systems</th>\n",
       "      <th>realm</th>\n",
       "      <th>scopes</th>\n",
       "      <th>kingdomName</th>\n",
       "      <th>className</th>\n",
       "    </tr>\n",
       "  </thead>\n",
       "  <tbody>\n",
       "    <tr>\n",
       "      <td>0</td>\n",
       "      <td>500479</td>\n",
       "      <td>11058</td>\n",
       "      <td>Kubaryia pilikia</td>\n",
       "      <td>PW</td>\n",
       "      <td>Palau</td>\n",
       "      <td>Possibly Extinct</td>\n",
       "      <td>Native</td>\n",
       "      <td>NaN</td>\n",
       "      <td>NaN</td>\n",
       "      <td>Critically Endangered</td>\n",
       "      <td>2012</td>\n",
       "      <td>2011-08-22 00:00:00 UTC</td>\n",
       "      <td>Unknown</td>\n",
       "      <td>Terrestrial</td>\n",
       "      <td>Oceanian</td>\n",
       "      <td>Global</td>\n",
       "      <td>ANIMALIA</td>\n",
       "      <td>GASTROPODA</td>\n",
       "    </tr>\n",
       "    <tr>\n",
       "      <td>1</td>\n",
       "      <td>502298</td>\n",
       "      <td>11256</td>\n",
       "      <td>Obovaria haddletoni</td>\n",
       "      <td>US</td>\n",
       "      <td>United States</td>\n",
       "      <td>Possibly Extinct</td>\n",
       "      <td>Native</td>\n",
       "      <td>NaN</td>\n",
       "      <td>NaN</td>\n",
       "      <td>Critically Endangered</td>\n",
       "      <td>2012</td>\n",
       "      <td>2012-04-11 00:00:00 UTC</td>\n",
       "      <td>NaN</td>\n",
       "      <td>Freshwater (=Inland waters)</td>\n",
       "      <td>Nearctic</td>\n",
       "      <td>Global</td>\n",
       "      <td>ANIMALIA</td>\n",
       "      <td>BIVALVIA</td>\n",
       "    </tr>\n",
       "    <tr>\n",
       "      <td>2</td>\n",
       "      <td>502943</td>\n",
       "      <td>11479</td>\n",
       "      <td>Lemiox rimosus</td>\n",
       "      <td>US</td>\n",
       "      <td>United States</td>\n",
       "      <td>Extant</td>\n",
       "      <td>Native</td>\n",
       "      <td>[\"Resident\"]</td>\n",
       "      <td>NaN</td>\n",
       "      <td>Critically Endangered</td>\n",
       "      <td>2012</td>\n",
       "      <td>2012-03-12 00:00:00 UTC</td>\n",
       "      <td>Decreasing</td>\n",
       "      <td>Freshwater (=Inland waters)</td>\n",
       "      <td>Nearctic</td>\n",
       "      <td>Global</td>\n",
       "      <td>ANIMALIA</td>\n",
       "      <td>BIVALVIA</td>\n",
       "    </tr>\n",
       "    <tr>\n",
       "      <td>3</td>\n",
       "      <td>509782</td>\n",
       "      <td>12803</td>\n",
       "      <td>Margaritifera hembeli</td>\n",
       "      <td>US</td>\n",
       "      <td>United States</td>\n",
       "      <td>Extant</td>\n",
       "      <td>Native</td>\n",
       "      <td>[\"Resident\"]</td>\n",
       "      <td>NaN</td>\n",
       "      <td>Critically Endangered</td>\n",
       "      <td>2012</td>\n",
       "      <td>2012-03-05 00:00:00 UTC</td>\n",
       "      <td>Decreasing</td>\n",
       "      <td>Freshwater (=Inland waters)</td>\n",
       "      <td>Nearctic</td>\n",
       "      <td>Global</td>\n",
       "      <td>ANIMALIA</td>\n",
       "      <td>BIVALVIA</td>\n",
       "    </tr>\n",
       "    <tr>\n",
       "      <td>4</td>\n",
       "      <td>510583</td>\n",
       "      <td>12930</td>\n",
       "      <td>Medionidus walkeri</td>\n",
       "      <td>US</td>\n",
       "      <td>United States</td>\n",
       "      <td>Extant</td>\n",
       "      <td>Native</td>\n",
       "      <td>[\"Resident\"]</td>\n",
       "      <td>NaN</td>\n",
       "      <td>Critically Endangered</td>\n",
       "      <td>2012</td>\n",
       "      <td>2012-03-05 00:00:00 UTC</td>\n",
       "      <td>Decreasing</td>\n",
       "      <td>Freshwater (=Inland waters)</td>\n",
       "      <td>Nearctic</td>\n",
       "      <td>Global</td>\n",
       "      <td>ANIMALIA</td>\n",
       "      <td>BIVALVIA</td>\n",
       "    </tr>\n",
       "  </tbody>\n",
       "</table>\n",
       "</div>"
      ],
      "text/plain": [
       "   assessmentId  internalTaxonId         scientificName code           name  \\\n",
       "0        500479            11058       Kubaryia pilikia   PW          Palau   \n",
       "1        502298            11256    Obovaria haddletoni   US  United States   \n",
       "2        502943            11479         Lemiox rimosus   US  United States   \n",
       "3        509782            12803  Margaritifera hembeli   US  United States   \n",
       "4        510583            12930     Medionidus walkeri   US  United States   \n",
       "\n",
       "           presence  origin   seasonality formerlyBred        redlistCategory  \\\n",
       "0  Possibly Extinct  Native           NaN          NaN  Critically Endangered   \n",
       "1  Possibly Extinct  Native           NaN          NaN  Critically Endangered   \n",
       "2            Extant  Native  [\"Resident\"]          NaN  Critically Endangered   \n",
       "3            Extant  Native  [\"Resident\"]          NaN  Critically Endangered   \n",
       "4            Extant  Native  [\"Resident\"]          NaN  Critically Endangered   \n",
       "\n",
       "   yearPublished           assessmentDate populationTrend  \\\n",
       "0           2012  2011-08-22 00:00:00 UTC         Unknown   \n",
       "1           2012  2012-04-11 00:00:00 UTC             NaN   \n",
       "2           2012  2012-03-12 00:00:00 UTC      Decreasing   \n",
       "3           2012  2012-03-05 00:00:00 UTC      Decreasing   \n",
       "4           2012  2012-03-05 00:00:00 UTC      Decreasing   \n",
       "\n",
       "                       systems     realm  scopes kingdomName   className  \n",
       "0                  Terrestrial  Oceanian  Global    ANIMALIA  GASTROPODA  \n",
       "1  Freshwater (=Inland waters)  Nearctic  Global    ANIMALIA    BIVALVIA  \n",
       "2  Freshwater (=Inland waters)  Nearctic  Global    ANIMALIA    BIVALVIA  \n",
       "3  Freshwater (=Inland waters)  Nearctic  Global    ANIMALIA    BIVALVIA  \n",
       "4  Freshwater (=Inland waters)  Nearctic  Global    ANIMALIA    BIVALVIA  "
      ]
     },
     "execution_count": 43,
     "metadata": {},
     "output_type": "execute_result"
    }
   ],
   "source": [
    "dfen.head()"
   ]
  },
  {
   "cell_type": "code",
   "execution_count": 42,
   "metadata": {},
   "outputs": [
    {
     "data": {
      "text/plain": [
       "code                0.217727\n",
       "seasonality        45.626141\n",
       "formerlyBred       86.529007\n",
       "populationTrend    19.614763\n",
       "systems             0.036873\n",
       "realm              13.613218\n",
       "dtype: float64"
      ]
     },
     "execution_count": 42,
     "metadata": {},
     "output_type": "execute_result"
    }
   ],
   "source": [
    "null_cols(dfen)"
   ]
  },
  {
   "cell_type": "code",
   "execution_count": 44,
   "metadata": {},
   "outputs": [],
   "source": [
    "dfen.drop(columns = [\"seasonality\", \"formerlyBred\"], inplace = True)"
   ]
  },
  {
   "cell_type": "code",
   "execution_count": 46,
   "metadata": {},
   "outputs": [
    {
     "data": {
      "text/plain": [
       "code                0.217727\n",
       "populationTrend    19.614763\n",
       "systems             0.036873\n",
       "realm              13.613218\n",
       "dtype: float64"
      ]
     },
     "execution_count": 46,
     "metadata": {},
     "output_type": "execute_result"
    }
   ],
   "source": [
    "null_cols(dfen)"
   ]
  },
  {
   "cell_type": "code",
   "execution_count": 48,
   "metadata": {},
   "outputs": [
    {
     "data": {
      "text/plain": [
       "(56952, 16)"
      ]
     },
     "execution_count": 48,
     "metadata": {},
     "output_type": "execute_result"
    }
   ],
   "source": [
    "dfen.shape"
   ]
  },
  {
   "cell_type": "markdown",
   "metadata": {},
   "source": [
    "## 1.1. IUCN Red List API -v3\n",
    "\n",
    "In order to use this API is necessary to have a token. To encode the password we use the function getpass. "
   ]
  },
  {
   "cell_type": "code",
   "execution_count": 3,
   "metadata": {},
   "outputs": [
    {
     "name": "stdout",
     "output_type": "stream",
     "text": [
      "········\n"
     ]
    }
   ],
   "source": [
    "token = getpass.getpass() #?token=63b2b24eaec509894a102afaefab4da450e8423af2016db4961a5828c3e896a7"
   ]
  },
  {
   "cell_type": "markdown",
   "metadata": {},
   "source": [
    "Now we define functions to obtain the data from the API."
   ]
  },
  {
   "cell_type": "code",
   "execution_count": 4,
   "metadata": {},
   "outputs": [],
   "source": [
    "categories = [\"DD\", \"LC\", \"NT\", \"VU\", \"EN\", \"CR\", \"EW\", \"EX\", \"LRlc\", \"LRnt\", \"LRcd\"]\n",
    "\n",
    "base_category = \"https://apiv3.iucnredlist.org/api/v3/species/category/EN\"\n",
    "base_reg = \"https://apiv3.iucnredlist.org/api/v3/region/list\"\n",
    "base_hist = \"https://apiv3.iucnredlist.org/api/v3/species/history/{}/:{}\" # {name of species}\n",
    "\n",
    "\n",
    "def extract_spe(keys, data):\n",
    "    \"\"\"\n",
    "    Takes the keys of a dictionary and return the values as columns of the dataframe\n",
    "    data\n",
    "    \"\"\"\n",
    "    for key in keys:\n",
    "        data[key] = data.result.apply(lambda x: x[key])\n",
    "    return data\n",
    "\n",
    "def extract_country(keys, data):\n",
    "    \n",
    "    \"\"\"\n",
    "    Takes the keys of a dictionary and return the values as columns of the dataframe\n",
    "    data\n",
    "    \"\"\"\n",
    "    for key in keys:\n",
    "        data[key] = data.results.apply(lambda x: x[key])\n",
    "    return data\n",
    "\n",
    "def get_iucn_cat(cat):\n",
    "    \"\"\"\n",
    "    Takes a category \"cat\" and returns all the endangered species\n",
    "    whose vulnerability status is \"cat\".\n",
    "    \"\"\"\n",
    "    \n",
    "    base_category = \"https://apiv3.iucnredlist.org/api/v3/species/category/\"\n",
    "    url = base_category + cat + token\n",
    "    result = requests.get(url)\n",
    "    df0 = pd.DataFrame(result.json(), columns = [\"category\",  \"result\"])\n",
    "    \n",
    "    return df0\n",
    "\n",
    "def get_iucn_country_list():\n",
    "    \n",
    "    \"\"\"\n",
    "    Returns the country list with iso3 codes from the IUCN data.\n",
    "    \"\"\"\n",
    "    keys_d = ['isocode', 'country']\n",
    "    url = \"https://apiv3.iucnredlist.org/api/v3/country/list\"+ token\n",
    "    result = requests.get(url)\n",
    "    df0= pd.DataFrame(result.json(), columns = [\"results\"])\n",
    "    df0 = extract_country(keys_d, df0)\n",
    "    df0.drop(columns = \"results\", inplace = True)\n",
    "    \n",
    "    return df0\n",
    "\n",
    "def get_iucn_country(name):\n",
    "    \"\"\"\n",
    "    Returns the description of endangered species whose habitat is the country\n",
    "    \"name\".\n",
    "    \"\"\"\n",
    "    \n",
    "    base = \"https://apiv3.iucnredlist.org/api/v3/country/getspecies/\"\n",
    "\n",
    "    url = base +name+token\n",
    "    result = requests.get(url)\n",
    "    return pd.DataFrame(result.json(), columns = [\"country\", \"result\"])\n",
    "    "
   ]
  },
  {
   "cell_type": "code",
   "execution_count": 5,
   "metadata": {},
   "outputs": [],
   "source": [
    "codes = pd.read_csv(\"data/country_code.csv\")   "
   ]
  },
  {
   "cell_type": "code",
   "execution_count": 6,
   "metadata": {},
   "outputs": [
    {
     "data": {
      "text/html": [
       "<div>\n",
       "<style scoped>\n",
       "    .dataframe tbody tr th:only-of-type {\n",
       "        vertical-align: middle;\n",
       "    }\n",
       "\n",
       "    .dataframe tbody tr th {\n",
       "        vertical-align: top;\n",
       "    }\n",
       "\n",
       "    .dataframe thead th {\n",
       "        text-align: right;\n",
       "    }\n",
       "</style>\n",
       "<table border=\"1\" class=\"dataframe\">\n",
       "  <thead>\n",
       "    <tr style=\"text-align: right;\">\n",
       "      <th></th>\n",
       "      <th>Country</th>\n",
       "      <th>ISO2</th>\n",
       "      <th>ISO3</th>\n",
       "    </tr>\n",
       "  </thead>\n",
       "  <tbody>\n",
       "    <tr>\n",
       "      <td>0</td>\n",
       "      <td>Afghanistan</td>\n",
       "      <td>AF</td>\n",
       "      <td>AFG</td>\n",
       "    </tr>\n",
       "    <tr>\n",
       "      <td>1</td>\n",
       "      <td>Albania</td>\n",
       "      <td>AL</td>\n",
       "      <td>ALB</td>\n",
       "    </tr>\n",
       "    <tr>\n",
       "      <td>2</td>\n",
       "      <td>Algeria</td>\n",
       "      <td>DZ</td>\n",
       "      <td>DZA</td>\n",
       "    </tr>\n",
       "    <tr>\n",
       "      <td>3</td>\n",
       "      <td>American Samoa</td>\n",
       "      <td>AS</td>\n",
       "      <td>ASM</td>\n",
       "    </tr>\n",
       "    <tr>\n",
       "      <td>4</td>\n",
       "      <td>Andorra</td>\n",
       "      <td>AD</td>\n",
       "      <td>AND</td>\n",
       "    </tr>\n",
       "  </tbody>\n",
       "</table>\n",
       "</div>"
      ],
      "text/plain": [
       "          Country ISO2 ISO3\n",
       "0     Afghanistan   AF  AFG\n",
       "1         Albania   AL  ALB\n",
       "2         Algeria   DZ  DZA\n",
       "3  American Samoa   AS  ASM\n",
       "4         Andorra   AD  AND"
      ]
     },
     "execution_count": 6,
     "metadata": {},
     "output_type": "execute_result"
    }
   ],
   "source": [
    "codes.head()"
   ]
  },
  {
   "cell_type": "code",
   "execution_count": null,
   "metadata": {},
   "outputs": [],
   "source": []
  },
  {
   "cell_type": "code",
   "execution_count": null,
   "metadata": {},
   "outputs": [],
   "source": [
    "def get_iucn_group_list():\n",
    "    \n",
    "    \"\"\"\n",
    "    Returns a list having all the comprehensive groups established by the IUCN.\n",
    "    \"\"\"\n",
    "    \n",
    "    url = \"https://apiv3.iucnredlist.org/api/v3/comp-group/list\"+ token\n",
    "    result = requests.get(url)\n",
    "    df0 = pd.DataFrame(result.json(), columns = [\"result\"])\n",
    "    df0 = extract_spe([\"group_name\"], df0)\n",
    "    df0.drop(columns = \"result\", inplace = True)\n",
    "    \n",
    "    return df0.group_name.to_list()\n",
    "\n",
    "def get_iucn_group(name):\n",
    "    \n",
    "    base = \"https://apiv3.iucnredlist.org/api/v3/comp-group/getspecies/\"\n",
    "\n",
    "    url = base +name+token\n",
    "    result = requests.get(url)\n",
    "    df0 = pd.DataFrame(result.json(), columns = [\"result\"])\n",
    "    df0[\"group\"] = name\n",
    "    \n",
    "    return df0\n",
    "    "
   ]
  },
  {
   "cell_type": "code",
   "execution_count": null,
   "metadata": {},
   "outputs": [],
   "source": [
    "def get_data(list_cat, cat_function):\n",
    "    \n",
    "    \"\"\"\n",
    "    Returns a dataset listing all species whose comprehensive group is within 'list_cat'\n",
    "    by using the function cat_function for extracting the data from API.\n",
    "    \"\"\"\n",
    "    \n",
    "    list_data = []\n",
    "    for name in list_cat:\n",
    "        list_data.append(cat_function(name))\n",
    "    \n",
    "    df0 = pd.concat(list_data)\n",
    "    df0.reset_index(inplace= True, drop = True)\n",
    "    \n",
    "    return df0\n",
    "              "
   ]
  },
  {
   "cell_type": "code",
   "execution_count": null,
   "metadata": {},
   "outputs": [],
   "source": [
    "groups = get_data(get_iucn_group_list(), get_iucn_group)"
   ]
  },
  {
   "cell_type": "code",
   "execution_count": null,
   "metadata": {},
   "outputs": [],
   "source": [
    "by_groups = extract_spe(['taxonid', 'scientific_name', 'subspecies', 'rank', 'subpopulation', 'category'], groups)"
   ]
  },
  {
   "cell_type": "code",
   "execution_count": null,
   "metadata": {},
   "outputs": [],
   "source": [
    "all_categories = get_data(['LC', 'DD', 'VU', 'EN', 'NT', 'CR', 'EX', 'EW', 'LRlc', 'LRnt', 'LRcd'], get_iucn_cat)"
   ]
  },
  {
   "cell_type": "code",
   "execution_count": null,
   "metadata": {},
   "outputs": [],
   "source": [
    "by_c= extract_spe(['taxonid', 'scientific_name', 'subspecies', 'rank', 'subpopulation'], all_categories)"
   ]
  },
  {
   "cell_type": "code",
   "execution_count": null,
   "metadata": {},
   "outputs": [],
   "source": [
    "by_groups.shape"
   ]
  },
  {
   "cell_type": "code",
   "execution_count": null,
   "metadata": {},
   "outputs": [],
   "source": [
    "by_groups.drop(columns = [\"result\", \"subspecies\", \"rank\", \"subpopulation\"], inplace= True)"
   ]
  },
  {
   "cell_type": "code",
   "execution_count": null,
   "metadata": {},
   "outputs": [],
   "source": [
    "by_groups.nunique()"
   ]
  },
  {
   "cell_type": "code",
   "execution_count": null,
   "metadata": {},
   "outputs": [],
   "source": [
    "by_c.drop(columns = [\"result\", \"subspecies\", \"rank\", \"subpopulation\"], inplace = True)"
   ]
  },
  {
   "cell_type": "code",
   "execution_count": null,
   "metadata": {},
   "outputs": [],
   "source": [
    "by_c.shape"
   ]
  },
  {
   "cell_type": "code",
   "execution_count": null,
   "metadata": {},
   "outputs": [],
   "source": [
    "countries.reset_index(drop =True, inplace= True)"
   ]
  },
  {
   "cell_type": "code",
   "execution_count": null,
   "metadata": {},
   "outputs": [],
   "source": [
    "key = list(countries.result[0].keys())"
   ]
  },
  {
   "cell_type": "code",
   "execution_count": null,
   "metadata": {},
   "outputs": [],
   "source": [
    "dfc = extract_spe(['taxonid', 'scientific_name', 'subspecies', 'rank', 'subpopulation', 'category'], countries)"
   ]
  },
  {
   "cell_type": "code",
   "execution_count": null,
   "metadata": {},
   "outputs": [],
   "source": [
    "dfc.drop(columns = [\"result\", \"subspecies\", \"rank\", \"subpopulation\"], inplace= True)"
   ]
  },
  {
   "cell_type": "code",
   "execution_count": null,
   "metadata": {},
   "outputs": [],
   "source": [
    "dfc.nunique()"
   ]
  },
  {
   "cell_type": "code",
   "execution_count": null,
   "metadata": {},
   "outputs": [],
   "source": [
    "by_c.nunique()"
   ]
  },
  {
   "cell_type": "code",
   "execution_count": null,
   "metadata": {},
   "outputs": [],
   "source": [
    "dfc = dfc.merge(codes, left_on = \"country\", right_on = \"ISO2\", how = \"left\")"
   ]
  },
  {
   "cell_type": "code",
   "execution_count": null,
   "metadata": {},
   "outputs": [],
   "source": [
    "null_cols(dfc)"
   ]
  },
  {
   "cell_type": "code",
   "execution_count": null,
   "metadata": {},
   "outputs": [],
   "source": [
    "dfc.category.value_counts()"
   ]
  },
  {
   "cell_type": "code",
   "execution_count": null,
   "metadata": {},
   "outputs": [],
   "source": []
  },
  {
   "cell_type": "code",
   "execution_count": null,
   "metadata": {},
   "outputs": [],
   "source": [
    "def get_iucn_species(number):\n",
    "    \n",
    "    base = \"https://apiv3.iucnredlist.org/api/v3/species/id/\"\n",
    "\n",
    "    url = base +str(number)+token\n",
    "    res = requests.get(url)\n",
    "    df0 = pd.DataFrame(res.json())\n",
    "    \n",
    "    return df0\n",
    "    "
   ]
  },
  {
   "cell_type": "code",
   "execution_count": null,
   "metadata": {},
   "outputs": [],
   "source": [
    "spe_endang = list(dfc[dfc.category.isin({\"VU\", \"EN\", \"CR\", \"EX\", \"EW\"})].taxonid)"
   ]
  },
  {
   "cell_type": "code",
   "execution_count": null,
   "metadata": {},
   "outputs": [],
   "source": [
    "len(spe_endang)"
   ]
  },
  {
   "cell_type": "code",
   "execution_count": null,
   "metadata": {},
   "outputs": [],
   "source": [
    "s0 = get_data(spe_endang[0:2000], get_iucn_species)"
   ]
  },
  {
   "cell_type": "code",
   "execution_count": null,
   "metadata": {},
   "outputs": [],
   "source": [
    "s1 = get_data(spe_endang[2000:4000], get_iucn_species)"
   ]
  },
  {
   "cell_type": "code",
   "execution_count": null,
   "metadata": {},
   "outputs": [],
   "source": [
    "s1 = get_data(spe_endang[2000:4000], get_iucn_species)"
   ]
  },
  {
   "cell_type": "code",
   "execution_count": null,
   "metadata": {},
   "outputs": [],
   "source": [
    "all_spe = get_data(list_spe[0:1000], get_iucn_species)"
   ]
  },
  {
   "cell_type": "code",
   "execution_count": null,
   "metadata": {},
   "outputs": [],
   "source": [
    "all_spe2 = get_data(list_spe[1000:2000], get_iucn_species)"
   ]
  },
  {
   "cell_type": "code",
   "execution_count": null,
   "metadata": {},
   "outputs": [],
   "source": [
    "all_spe = pd.concat([all_spe, all_spe2])"
   ]
  },
  {
   "cell_type": "code",
   "execution_count": null,
   "metadata": {},
   "outputs": [],
   "source": [
    "all_spe.reset_index(drop = True, inplace= True)"
   ]
  },
  {
   "cell_type": "code",
   "execution_count": null,
   "metadata": {},
   "outputs": [],
   "source": [
    "dfc.taxonid.nunique()"
   ]
  },
  {
   "cell_type": "code",
   "execution_count": null,
   "metadata": {},
   "outputs": [],
   "source": [
    "def collect(file):\n",
    "    c0 = pd.read_csv(\"data/CR/\"+ file +\".csv\")\n",
    "    c1 = pd.read_csv(\"data/Extinct/\" + file +\".csv\")\n",
    "    c2 = pd.read_csv(\"data/rest/\" + file +\".csv\")\n",
    "\n",
    "    return pd.concat([c0, c1, c2])"
   ]
  },
  {
   "cell_type": "code",
   "execution_count": null,
   "metadata": {},
   "outputs": [],
   "source": [
    "assessments = collect(\"assessments\")"
   ]
  },
  {
   "cell_type": "code",
   "execution_count": null,
   "metadata": {},
   "outputs": [],
   "source": [
    "iucnCountries = collect(\"countries\")"
   ]
  },
  {
   "cell_type": "code",
   "execution_count": null,
   "metadata": {},
   "outputs": [],
   "source": [
    "assessments.shape"
   ]
  },
  {
   "cell_type": "code",
   "execution_count": null,
   "metadata": {},
   "outputs": [],
   "source": [
    "assessments.redlistCategory.value_counts()"
   ]
  },
  {
   "cell_type": "code",
   "execution_count": null,
   "metadata": {},
   "outputs": [],
   "source": [
    "df = assessments.copy()"
   ]
  },
  {
   "cell_type": "code",
   "execution_count": null,
   "metadata": {},
   "outputs": [],
   "source": [
    "dfc.category.value_counts()"
   ]
  },
  {
   "cell_type": "code",
   "execution_count": null,
   "metadata": {},
   "outputs": [],
   "source": [
    "df.nunique()"
   ]
  },
  {
   "cell_type": "code",
   "execution_count": null,
   "metadata": {},
   "outputs": [],
   "source": [
    "df.redlistCategory.value_counts()"
   ]
  },
  {
   "cell_type": "code",
   "execution_count": null,
   "metadata": {},
   "outputs": [],
   "source": [
    "df = df[['assessmentId', 'internalTaxonId', 'scientificName', 'redlistCategory',\n",
    "       'yearPublished', 'assessmentDate', 'populationTrend', 'systems',\n",
    "        'realm','scopes']]"
   ]
  },
  {
   "cell_type": "code",
   "execution_count": null,
   "metadata": {},
   "outputs": [],
   "source": [
    "df.head()"
   ]
  },
  {
   "cell_type": "code",
   "execution_count": null,
   "metadata": {},
   "outputs": [],
   "source": [
    "taxons= collect(\"taxonomy\")"
   ]
  },
  {
   "cell_type": "code",
   "execution_count": null,
   "metadata": {},
   "outputs": [],
   "source": [
    "df = df.merge(taxons[[\"internalTaxonId\", \"kingdomName\", \"className\"]], on = \"internalTaxonId\", how = \"left\")"
   ]
  },
  {
   "cell_type": "code",
   "execution_count": null,
   "metadata": {},
   "outputs": [],
   "source": [
    "dfc[dfc.category == \"EX\"].country.value_counts()"
   ]
  },
  {
   "cell_type": "code",
   "execution_count": null,
   "metadata": {},
   "outputs": [],
   "source": [
    "dfc.drop_duplicates(inplace = True)"
   ]
  },
  {
   "cell_type": "code",
   "execution_count": null,
   "metadata": {},
   "outputs": [],
   "source": [
    "dfcop = dfc.copy()"
   ]
  },
  {
   "cell_type": "code",
   "execution_count": null,
   "metadata": {},
   "outputs": [],
   "source": [
    "dfen = dfcop[dfcop.category.isin({\"VU\", \"EN\", \"CR\", \"EX\", \"EW\"})]"
   ]
  },
  {
   "cell_type": "code",
   "execution_count": null,
   "metadata": {},
   "outputs": [],
   "source": [
    "dfen = dfen.merge(df, left_on = [\"taxonid\", \"scientific_name\"], right_on = [\"internalTaxonId\", \"scientificName\"], how = \"left\")"
   ]
  },
  {
   "cell_type": "code",
   "execution_count": null,
   "metadata": {},
   "outputs": [],
   "source": [
    "df.head()"
   ]
  },
  {
   "cell_type": "code",
   "execution_count": null,
   "metadata": {},
   "outputs": [],
   "source": [
    "null_cols(dfen)"
   ]
  },
  {
   "cell_type": "code",
   "execution_count": null,
   "metadata": {},
   "outputs": [],
   "source": [
    "missingids = list(dfen[dfen.assessmentId.isna()].taxonid.value_counts().index)"
   ]
  },
  {
   "cell_type": "code",
   "execution_count": null,
   "metadata": {},
   "outputs": [],
   "source": [
    "len(missingids)"
   ]
  },
  {
   "cell_type": "code",
   "execution_count": null,
   "metadata": {},
   "outputs": [],
   "source": [
    "missing = get_data(missingids, get_iucn_species)"
   ]
  },
  {
   "cell_type": "code",
   "execution_count": null,
   "metadata": {},
   "outputs": [],
   "source": [
    "missing.result[0]"
   ]
  },
  {
   "cell_type": "code",
   "execution_count": null,
   "metadata": {},
   "outputs": [],
   "source": [
    "all_spe.result[0].keys()"
   ]
  },
  {
   "cell_type": "code",
   "execution_count": null,
   "metadata": {},
   "outputs": [],
   "source": [
    "missing = extract_spe(['taxonid', 'scientific_name', 'kingdom', 'phylum', 'class', 'order', 'family',\n",
    "                       'genus', 'main_common_name', 'authority', 'published_year', 'assessment_date', \n",
    "                       'category', 'criteria', 'population_trend', 'marine_system', 'freshwater_system', \n",
    "                       'terrestrial_system', 'assessor', 'reviewer', 'aoo_km2', 'eoo_km2', 'elevation_upper',\n",
    "                       'elevation_lower', 'depth_upper', 'depth_lower', 'errata_flag', 'errata_reason', 'amended_flag',\n",
    "                       'amended_reason'], missing)"
   ]
  },
  {
   "cell_type": "code",
   "execution_count": null,
   "metadata": {},
   "outputs": [],
   "source": [
    "missing.drop(columns = [\"name\", \"result\"], inplace = True)"
   ]
  },
  {
   "cell_type": "code",
   "execution_count": null,
   "metadata": {},
   "outputs": [],
   "source": [
    "missing2 = missing.copy()"
   ]
  },
  {
   "cell_type": "code",
   "execution_count": null,
   "metadata": {},
   "outputs": [],
   "source": [
    "missing2.drop(columns= [\"phylum\", \"order\", \"family\", \"genus\", \"main_common_name\", \"authority\", \"criteria\", \"assessor\", \"reviewer\", 'aoo_km2', 'eoo_km2', 'elevation_upper',\n",
    "                       'elevation_lower', 'depth_upper', 'depth_lower', 'errata_flag', 'errata_reason', 'amended_flag',\n",
    "                       'amended_reason'], inplace = True)"
   ]
  },
  {
   "cell_type": "code",
   "execution_count": null,
   "metadata": {},
   "outputs": [],
   "source": [
    "missing2.head()"
   ]
  },
  {
   "cell_type": "code",
   "execution_count": null,
   "metadata": {},
   "outputs": [],
   "source": [
    "missing.to_csv(\"data/missing.csv\")"
   ]
  },
  {
   "cell_type": "code",
   "execution_count": null,
   "metadata": {},
   "outputs": [],
   "source": [
    "df.head()"
   ]
  },
  {
   "cell_type": "code",
   "execution_count": null,
   "metadata": {},
   "outputs": [],
   "source": [
    "dff = df[[\"internalTaxonId\", \"scientificName\", \"kingdomName\", \"className\", \"yearPublished\", \"assessmentDate\", \"redlistCategory\", \"populationTrend\", \"systems\", \"realm\"]].copy()"
   ]
  },
  {
   "cell_type": "code",
   "execution_count": null,
   "metadata": {},
   "outputs": [],
   "source": [
    "missing2.columns"
   ]
  },
  {
   "cell_type": "code",
   "execution_count": null,
   "metadata": {},
   "outputs": [],
   "source": [
    "colnames = {\"internalTaxonId\": 'taxonid', \n",
    "            \"scientificName\": 'scientific_name', \n",
    "            \"kingdomName\": 'kingdom', \n",
    "            \"className\": 'class', \n",
    "            \"yearPublished\":'published_year',\n",
    "            \"assessmentDate\":'assessment_date', \n",
    "            \"redlistCategory\":'category', \n",
    "            \"populationTrend\": 'population_trend'}\n",
    "\n",
    "dff.rename(columns = colnames, inplace = True)"
   ]
  },
  {
   "cell_type": "code",
   "execution_count": null,
   "metadata": {},
   "outputs": [],
   "source": [
    "dff.systems.value_counts()"
   ]
  },
  {
   "cell_type": "code",
   "execution_count": null,
   "metadata": {},
   "outputs": [],
   "source": [
    "def get_system(system):\n",
    "    if system == \"Terrestrial\":\n",
    "        return \"terrestrial\"\n",
    "    elif system == \"Freshwater (=Inland waters)\":\n",
    "        return \"freshwater\"\n",
    "    elif system == \"Terrestrial|Freshwater (=Inland waters)\":\n",
    "        return \"terrestrial, freshwater\"\n",
    "    elif (system == \"Marine\" or system== \"Marine|Marine\"):\n",
    "        return \"marine\"\n",
    "    elif system == \"Terrestrial|Marine\":\n",
    "        return \"terrestrial, marine\"\n",
    "    elif system == \"Freshwater (=Inland waters)|Marine\":\n",
    "        return \"freshwater, marine\"\n",
    "    elif system == \"Terrestrial|Freshwater (=Inland waters)|Marine\":\n",
    "        return \"terrestrial, freshwater, marine\"\n",
    "    "
   ]
  },
  {
   "cell_type": "code",
   "execution_count": null,
   "metadata": {},
   "outputs": [],
   "source": [
    "dff[\"system\"] = dff.systems.apply(get_system)"
   ]
  },
  {
   "cell_type": "code",
   "execution_count": null,
   "metadata": {},
   "outputs": [],
   "source": [
    "dff.drop(columns = \"systems\", inplace = True)"
   ]
  },
  {
   "cell_type": "code",
   "execution_count": null,
   "metadata": {},
   "outputs": [],
   "source": [
    "dff.system.fillna(\"terrestrial\", inplace= True)"
   ]
  },
  {
   "cell_type": "code",
   "execution_count": null,
   "metadata": {},
   "outputs": [],
   "source": [
    "dff[\"marine_system\"] = dff.system.apply(lambda n: 1 if \"marine\" in n.split(\", \") else 0)"
   ]
  },
  {
   "cell_type": "code",
   "execution_count": null,
   "metadata": {},
   "outputs": [],
   "source": [
    "dff.system.value_counts()"
   ]
  },
  {
   "cell_type": "code",
   "execution_count": null,
   "metadata": {},
   "outputs": [],
   "source": [
    "dff[\"freshwater_system\"] = dff.system.apply(lambda n: 1 if \"freshwater\" in n.split(\", \") else 0)"
   ]
  },
  {
   "cell_type": "code",
   "execution_count": null,
   "metadata": {},
   "outputs": [],
   "source": [
    "dff[\"terrestrial_system\"] = dff.system.apply(lambda n: 1 if \"terrestrial\" in n.split(\", \") else 0)"
   ]
  },
  {
   "cell_type": "code",
   "execution_count": null,
   "metadata": {},
   "outputs": [],
   "source": [
    "dff.drop(columns = \"realm\", inplace = True)"
   ]
  },
  {
   "cell_type": "code",
   "execution_count": null,
   "metadata": {},
   "outputs": [],
   "source": [
    "dff.drop(columns = \"system\", inplace = True)"
   ]
  },
  {
   "cell_type": "code",
   "execution_count": null,
   "metadata": {},
   "outputs": [],
   "source": [
    "missing2.head()"
   ]
  },
  {
   "cell_type": "code",
   "execution_count": null,
   "metadata": {},
   "outputs": [],
   "source": [
    "dff.head()"
   ]
  },
  {
   "cell_type": "code",
   "execution_count": null,
   "metadata": {},
   "outputs": [],
   "source": [
    "status = {\"VU\": \"Vulnerable\",\n",
    "          \"EN\": \"Endangered\",\n",
    "          \"CR\": \"Critically Endangered\",\n",
    "          \"EX\": \"Extinct\",\n",
    "          \"EW\": \"Extinct in the Wild\"\n",
    "          }\n",
    "missing2[\"category\"] = missing2.category.apply(lambda n: status[n])"
   ]
  },
  {
   "cell_type": "code",
   "execution_count": null,
   "metadata": {},
   "outputs": [],
   "source": [
    "taxondata = pd.concat([dff,missing2]).reset_index(drop = True)"
   ]
  },
  {
   "cell_type": "code",
   "execution_count": null,
   "metadata": {},
   "outputs": [],
   "source": [
    "taxondata.head()"
   ]
  },
  {
   "cell_type": "code",
   "execution_count": null,
   "metadata": {},
   "outputs": [],
   "source": [
    "taxondata.category.value_counts()"
   ]
  },
  {
   "cell_type": "code",
   "execution_count": null,
   "metadata": {},
   "outputs": [],
   "source": [
    "geogdata = dfcop[dfcop.category.isin({\"VU\", \"EN\", \"CR\", \"EX\", \"EW\"})].copy()"
   ]
  },
  {
   "cell_type": "code",
   "execution_count": null,
   "metadata": {},
   "outputs": [],
   "source": [
    "spe_complete = geogdata.merge(taxondata, on = [\"taxonid\", \"scientific_name\"], how = \"left\")"
   ]
  },
  {
   "cell_type": "code",
   "execution_count": null,
   "metadata": {},
   "outputs": [],
   "source": [
    "spe_complete.head()"
   ]
  },
  {
   "cell_type": "code",
   "execution_count": null,
   "metadata": {},
   "outputs": [],
   "source": [
    "spe_complete.drop(columns = \"category_x\", inplace = True)"
   ]
  },
  {
   "cell_type": "code",
   "execution_count": null,
   "metadata": {},
   "outputs": [],
   "source": [
    "spe_complete.rename(columns = {\"category_y\": \"category\"}, inplace= True)"
   ]
  },
  {
   "cell_type": "code",
   "execution_count": null,
   "metadata": {},
   "outputs": [],
   "source": [
    "spe_complete.nunique()"
   ]
  },
  {
   "cell_type": "code",
   "execution_count": null,
   "metadata": {},
   "outputs": [],
   "source": [
    "null_cols(spe_complete)"
   ]
  },
  {
   "cell_type": "code",
   "execution_count": null,
   "metadata": {},
   "outputs": [],
   "source": [
    "spe_complete.Country.fillna(\"Disputed Territory\", inplace = True)"
   ]
  },
  {
   "cell_type": "code",
   "execution_count": null,
   "metadata": {},
   "outputs": [],
   "source": [
    "null_cols(spe_complete)"
   ]
  },
  {
   "cell_type": "code",
   "execution_count": null,
   "metadata": {},
   "outputs": [],
   "source": [
    "spe_complete.drop(columns = [\"country\"], inplace = True)"
   ]
  },
  {
   "cell_type": "code",
   "execution_count": null,
   "metadata": {},
   "outputs": [],
   "source": [
    "spe_complete[\"kingdom\"].value_counts()"
   ]
  },
  {
   "cell_type": "code",
   "execution_count": null,
   "metadata": {},
   "outputs": [],
   "source": [
    "spe_relevant = spe_complete[spe_complete.kingdom.isin({\"ANIMALIA\", \"PLANTAE\"})].copy()"
   ]
  },
  {
   "cell_type": "code",
   "execution_count": null,
   "metadata": {},
   "outputs": [],
   "source": [
    "spe_relevant.Country.value_counts()"
   ]
  },
  {
   "cell_type": "code",
   "execution_count": null,
   "metadata": {},
   "outputs": [],
   "source": [
    "realms = pd.read_csv(\"data/regions.csv\")"
   ]
  },
  {
   "cell_type": "code",
   "execution_count": null,
   "metadata": {},
   "outputs": [],
   "source": [
    "realms.drop(columns = \"Unnamed: 0\", inplace = True)"
   ]
  },
  {
   "cell_type": "code",
   "execution_count": null,
   "metadata": {},
   "outputs": [],
   "source": [
    "realms.head()"
   ]
  },
  {
   "cell_type": "code",
   "execution_count": null,
   "metadata": {},
   "outputs": [],
   "source": [
    "spe_relevant = spe_relevant[['taxonid', 'kingdom','class','scientific_name',\n",
    "              'published_year', 'assessment_date', 'category',\n",
    "           'population_trend', 'marine_system', 'freshwater_system',\n",
    "            'terrestrial_system', 'Country', 'ISO2', 'ISO3']]"
   ]
  },
  {
   "cell_type": "code",
   "execution_count": null,
   "metadata": {},
   "outputs": [],
   "source": [
    "spe_relevant.head()"
   ]
  },
  {
   "cell_type": "code",
   "execution_count": null,
   "metadata": {},
   "outputs": [],
   "source": [
    "spe_relevant = spe_relevant.merge(realms[[\"Realm\", \"Continent\", \"Region\", \"Subregion\", \"ISO3\"]], on = \"ISO3\", how = \"left\")"
   ]
  },
  {
   "cell_type": "code",
   "execution_count": null,
   "metadata": {},
   "outputs": [],
   "source": [
    "spe_relevant.to_csv(\"data/species-realm-curate.csv\")"
   ]
  },
  {
   "cell_type": "code",
   "execution_count": null,
   "metadata": {},
   "outputs": [],
   "source": [
    "spe_relevant.head()"
   ]
  },
  {
   "cell_type": "code",
   "execution_count": null,
   "metadata": {},
   "outputs": [],
   "source": [
    "spe_relevant.Realm.value_counts()"
   ]
  },
  {
   "cell_type": "code",
   "execution_count": null,
   "metadata": {},
   "outputs": [],
   "source": [
    "spe_relevant.dtypes"
   ]
  },
  {
   "cell_type": "code",
   "execution_count": null,
   "metadata": {},
   "outputs": [],
   "source": [
    "spe_relevant[\"assessment_date\"] = pd.to_datetime(spe_relevant.assessment_date, infer_datetime_format=True, utc= True)\n"
   ]
  },
  {
   "cell_type": "code",
   "execution_count": null,
   "metadata": {},
   "outputs": [],
   "source": [
    "spe_relevant[\"year\"] = spe_relevant.assessment_date.dt.year"
   ]
  },
  {
   "cell_type": "code",
   "execution_count": null,
   "metadata": {},
   "outputs": [],
   "source": [
    "spe_relevant = spe_relevant.sort_values(\"assessment_date\")"
   ]
  },
  {
   "cell_type": "code",
   "execution_count": null,
   "metadata": {},
   "outputs": [],
   "source": [
    "spe_relevant.shape"
   ]
  },
  {
   "cell_type": "code",
   "execution_count": null,
   "metadata": {},
   "outputs": [],
   "source": [
    "spe_relevant.year.value_counts()"
   ]
  },
  {
   "cell_type": "code",
   "execution_count": null,
   "metadata": {},
   "outputs": [],
   "source": [
    "spe_relevant.groupby([\"year\", \"Realm\", \"category\", \"kingdom\"]).size()"
   ]
  },
  {
   "cell_type": "code",
   "execution_count": null,
   "metadata": {},
   "outputs": [],
   "source": [
    "year_realm = (spe_relevant[[\"year\", \"Realm\", \"taxonid\"]]\n",
    "            .groupby([\"year\", \"Realm\"])\n",
    "            .count()\n",
    "            .reset_index())"
   ]
  },
  {
   "cell_type": "code",
   "execution_count": null,
   "metadata": {},
   "outputs": [],
   "source": [
    "year_realm.head()"
   ]
  },
  {
   "cell_type": "code",
   "execution_count": null,
   "metadata": {},
   "outputs": [],
   "source": [
    "pivot_year_realm = pd.pivot_table(year_realm, values='taxonid', \n",
    "                                index=['year'], \n",
    "                                columns=['Realm'], \n",
    "                                aggfunc=np.sum).reset_index()\n",
    "\n",
    "#Filling with zeros\n",
    "pivot_year_realm = pivot_year_realm.fillna(0)"
   ]
  },
  {
   "cell_type": "code",
   "execution_count": null,
   "metadata": {},
   "outputs": [],
   "source": [
    "cols = ['Afrotropical', 'Antarctic', 'Australasian', 'Indomalayan','Nearctic', 'Neotropical', 'Oceanian', 'Palearctic']\n",
    "\n",
    "for col in cols:\n",
    "    pivot_year_realm[col] = pivot_year_realm[col].cumsum()"
   ]
  },
  {
   "cell_type": "code",
   "execution_count": null,
   "metadata": {},
   "outputs": [],
   "source": [
    "pivot_year_realm"
   ]
  },
  {
   "cell_type": "code",
   "execution_count": null,
   "metadata": {},
   "outputs": [],
   "source": [
    "# Here we use hvplot library\n",
    "\n",
    "#Ploting both lines: Variation extent and variation area\n",
    "\"\"\"\n",
    "j = pivot_cat_year.hvplot.area(x ='yearPublished', \n",
    "                       y = [\"Extinct in the Wild\", \"Extinct\", 'Critically Endangered', 'Endangered',  \"Vulnerable\"], \n",
    "                       value_label ='Number of species', # counts of species is the numerical feature\n",
    "                       title = \"Animal species in the IUCN red list (2000-2019)\",\n",
    "                       xlabel = \"Year\",\n",
    "                       cmap = \"Pastel1\", # colormap set\n",
    "                       width =800, \n",
    "                       height =400,\n",
    "                       line_width = 0.5,\n",
    "                       line_join = \"round\")\n",
    "\n",
    "j.opts(legend_position='top_left')\n",
    "\"\"\"\n",
    "\n",
    "j = (pivot_year_realm.hvplot.line(x= \"year\", \n",
    "                          y= [\"Afrotropical\", \"Antarctic\", 'Australasian', 'Indomalayan',  \"Nearctic\", \"Neotropical\", \"Oceanian\", \"Palearctic\"], \n",
    "                          value_label='number of species',\n",
    "                          title = \"Endangered and Extinct species by Bio Realm\",\n",
    "                          xlabel = \"year\",\n",
    "                          ylabel = \"number of species\",\n",
    "                          #  logy = True, possible to do\n",
    "                          cmap = \"glasbey_cool\",\n",
    "                          width=900, \n",
    "                          height=400,\n",
    "                          line_width = 3,\n",
    "                          alpha = 0.6))\n",
    "\n",
    "#positioning legends\n",
    "j.opts(legend_position='right')"
   ]
  },
  {
   "cell_type": "code",
   "execution_count": null,
   "metadata": {},
   "outputs": [],
   "source": [
    "plants = set(spe_relevant[spe_relevant[\"kingdom\"] == \"PLANTAE\"][\"class\"].value_counts().index)\n"
   ]
  },
  {
   "cell_type": "code",
   "execution_count": null,
   "metadata": {},
   "outputs": [],
   "source": [
    "spe_relevant[spe_relevant[\"Realm\"]== \"Australasian\"][\"class\"].value_counts()"
   ]
  },
  {
   "cell_type": "code",
   "execution_count": null,
   "metadata": {},
   "outputs": [],
   "source": [
    "#Plot with HoloViews\n",
    "\n",
    "temp_an = hv.Curve(global_anomalies, \n",
    "                   ('Year', 'Year'), \n",
    "                   ('J-D', 'Annual variation'), \n",
    "                   label=\"Temperature Anomalies\")\n",
    "\n",
    "#Line options\n",
    "temp_an.opts(opts.Curve(height=500, \n",
    "                        width=800, \n",
    "                        line_width=2, \n",
    "                        color=\"orange\", \n",
    "                        tools=['hover']))\n",
    "\n",
    "#baseline plotting\n",
    "baseline = (hv.HLine(0))\n",
    "\n",
    "baseline.opts(opts.HLine(color = \"cornflowerblue\", \n",
    "                         line_width = 1, \n",
    "                         tools = [\"hover\"], \n",
    "                         line_dash='dashed'))\n",
    "\n",
    "#Composing the plot\n",
    "temp_an * baseline * hv.Text(2000, -0.05, 'Baseline temperature 1960')"
   ]
  },
  {
   "cell_type": "code",
   "execution_count": null,
   "metadata": {},
   "outputs": [],
   "source": []
  },
  {
   "cell_type": "markdown",
   "metadata": {},
   "source": [
    "# Temperatures and Precipitation datasets\n",
    "\n",
    "Temperature & precipitation datasets:  https://climateknowledgeportal.worldbank.org\n",
    "We aim to classify or cluster countries in 4 categories:\n",
    " * Cold Dry\n",
    " * Cold Wet\n",
    " * Hot dry\n",
    " * Hot wet\n",
    "\n",
    "Then the idea is to explore the impact of climate change in representatives of those regions including the frequency or vulnerability of suffering natural events.\n"
   ]
  },
  {
   "cell_type": "code",
   "execution_count": null,
   "metadata": {},
   "outputs": [],
   "source": [
    "temp_anomal = pd.read_csv('data/graph.txt', sep=\"     \", header=None, engine= \"python\")\n"
   ]
  },
  {
   "cell_type": "code",
   "execution_count": null,
   "metadata": {},
   "outputs": [],
   "source": [
    "temp_anomal.columns = [\"Year\", \"temp\", \"lowest\"]"
   ]
  },
  {
   "cell_type": "code",
   "execution_count": null,
   "metadata": {},
   "outputs": [],
   "source": [
    "temp_anomal.drop([0], inplace= True)"
   ]
  },
  {
   "cell_type": "code",
   "execution_count": null,
   "metadata": {},
   "outputs": [],
   "source": [
    "temp_anomal = temp_anomal.apply(pd.to_numeric)"
   ]
  },
  {
   "cell_type": "code",
   "execution_count": null,
   "metadata": {},
   "outputs": [],
   "source": [
    "temp_anomal.dtypes"
   ]
  },
  {
   "cell_type": "code",
   "execution_count": null,
   "metadata": {},
   "outputs": [],
   "source": [
    "prec_temp = pd.read_csv(\"data/prec_temp.csv\")"
   ]
  },
  {
   "cell_type": "code",
   "execution_count": null,
   "metadata": {},
   "outputs": [],
   "source": [
    "prec_temp.reset_index(drop = True, inplace = True)"
   ]
  },
  {
   "cell_type": "code",
   "execution_count": null,
   "metadata": {},
   "outputs": [],
   "source": [
    "prec_temp.drop(columns = \"Unnamed: 0\", inplace= True)"
   ]
  },
  {
   "cell_type": "code",
   "execution_count": null,
   "metadata": {},
   "outputs": [],
   "source": [
    "prec_temp.merge()"
   ]
  },
  {
   "cell_type": "code",
   "execution_count": null,
   "metadata": {},
   "outputs": [],
   "source": [
    "years = hv.HoloMap(kdims=['Year'])\n",
    "\n",
    "for i in range(2000, 2017):\n",
    "    years[i] = hv.Points(prec_temp[prec_temp.Year == i], \n",
    "                   [\"Precipitation\", \"Temperature\"],\n",
    "                   ['Country', 'Year', \"Realm\", \"ISO3\"]).sort('Year')\n",
    "    \n",
    "    tooltips = [('Country', '@Country'),\n",
    "            ('Year', '@Year'), (\"Realm\", \"@Realm\")\n",
    "            ]\n",
    "\n",
    "    hover = HoverTool(tooltips=tooltips)\n",
    "\n",
    "    years[i].opts(tools=[hover], \n",
    "            color='Realm', \n",
    "            cmap='Set2',\n",
    "            line_color='black', \n",
    "            padding=0.1, \n",
    "            size = 5,\n",
    "            width=600, \n",
    "            height=350, \n",
    "            show_grid=True,\n",
    "            #logx = True,\n",
    "            title='Temperature vs precipitation')\n",
    "    \n",
    "years.opts(legend_position='right')    "
   ]
  },
  {
   "cell_type": "code",
   "execution_count": null,
   "metadata": {},
   "outputs": [],
   "source": [
    "prec_temp.head()"
   ]
  },
  {
   "cell_type": "code",
   "execution_count": null,
   "metadata": {},
   "outputs": [],
   "source": [
    "geom = gpd.read_file('data/countries.geojson')"
   ]
  },
  {
   "cell_type": "code",
   "execution_count": null,
   "metadata": {},
   "outputs": [],
   "source": [
    "geom.head()"
   ]
  },
  {
   "cell_type": "code",
   "execution_count": null,
   "metadata": {},
   "outputs": [],
   "source": [
    "geom.shape"
   ]
  },
  {
   "cell_type": "code",
   "execution_count": null,
   "metadata": {},
   "outputs": [],
   "source": [
    "prec_temp = prec_temp.merge(geom[[\"ISO_A3\", \"geometry\"]], left_on = \"ISO3\", right_on = \"ISO_A3\")"
   ]
  },
  {
   "cell_type": "code",
   "execution_count": null,
   "metadata": {},
   "outputs": [],
   "source": [
    "prec_temp.drop(columns = \"ISO_A3\", inplace = True)"
   ]
  },
  {
   "cell_type": "code",
   "execution_count": null,
   "metadata": {},
   "outputs": [],
   "source": [
    "prec_temp.dtypes"
   ]
  },
  {
   "cell_type": "code",
   "execution_count": null,
   "metadata": {},
   "outputs": [],
   "source": [
    "from geopandas import GeoDataFrame\n",
    "\n",
    "gdf = GeoDataFrame(prec_temp, geometry=\"geometry\")"
   ]
  },
  {
   "cell_type": "code",
   "execution_count": null,
   "metadata": {},
   "outputs": [],
   "source": [
    "gdf = gdf[gdf.Year==1991]"
   ]
  },
  {
   "cell_type": "code",
   "execution_count": null,
   "metadata": {},
   "outputs": [],
   "source": [
    "gv.Polygons(gdf, \n",
    "            vdims=['Temperature', \"Country\"]).opts(tools=['hover'],\n",
    "                                                   width=800,\n",
    "                                                   height= 500,\n",
    "                                                   projection=crs.PlateCarree(),\n",
    "                                                   cmap = \"Spectral_r\")"
   ]
  },
  {
   "cell_type": "code",
   "execution_count": null,
   "metadata": {},
   "outputs": [],
   "source": [
    "prec_temp.head()"
   ]
  },
  {
   "cell_type": "code",
   "execution_count": null,
   "metadata": {},
   "outputs": [],
   "source": [
    "pd.read_csv(\"data/temperature.csv\")"
   ]
  },
  {
   "cell_type": "code",
   "execution_count": null,
   "metadata": {},
   "outputs": [],
   "source": [
    "pd.read_csv(\"data/africa.csv\")"
   ]
  },
  {
   "cell_type": "code",
   "execution_count": null,
   "metadata": {},
   "outputs": [],
   "source": [
    "emissions_pc = pd.read_csv(\"data/co-emissions-per-capita.csv\")"
   ]
  },
  {
   "cell_type": "code",
   "execution_count": null,
   "metadata": {},
   "outputs": [],
   "source": [
    "emissions_share = pd.read_csv(\"data/annual-share-of-co2-emissions.csv\")"
   ]
  },
  {
   "cell_type": "code",
   "execution_count": null,
   "metadata": {},
   "outputs": [],
   "source": [
    "emissions_share.rename(columns = {\"Share of global CO₂ emissions (%)\": \"share_perc\"}, inplace = True)"
   ]
  },
  {
   "cell_type": "code",
   "execution_count": null,
   "metadata": {},
   "outputs": [],
   "source": [
    "emissions_pc.rename(columns = {\"Per capita CO₂ emissions (tonnes per capita)\": \"emissions_pc\"}, inplace = True)"
   ]
  },
  {
   "cell_type": "code",
   "execution_count": null,
   "metadata": {},
   "outputs": [],
   "source": [
    "emissions_share.merge(regions[[\"ISO3\"]])"
   ]
  },
  {
   "cell_type": "code",
   "execution_count": null,
   "metadata": {},
   "outputs": [],
   "source": [
    "emissions_share = emissions_share.merge(realms[[\"Realm\", \"ISO3\"]], left_on = \"Code\", right_on = \"ISO3\", how = \"left\")"
   ]
  },
  {
   "cell_type": "code",
   "execution_count": null,
   "metadata": {},
   "outputs": [],
   "source": [
    "emissions_pc= emissions_pc.merge(realms[[\"Realm\", \"ISO3\"]], left_on = \"Code\", right_on = \"ISO3\", how = \"left\")"
   ]
  },
  {
   "cell_type": "code",
   "execution_count": null,
   "metadata": {},
   "outputs": [],
   "source": [
    "emissions_share.drop(columns = \"ISO3\", inplace = True)\n",
    "emissions_pc.drop(columns = \"ISO3\", inplace = True)\n"
   ]
  },
  {
   "cell_type": "code",
   "execution_count": null,
   "metadata": {},
   "outputs": [],
   "source": [
    "emissions_share.head()"
   ]
  },
  {
   "cell_type": "code",
   "execution_count": null,
   "metadata": {},
   "outputs": [],
   "source": [
    "emissions_share.head()"
   ]
  },
  {
   "cell_type": "code",
   "execution_count": null,
   "metadata": {},
   "outputs": [],
   "source": [
    "emissions_share[emissions_share.Code.isna()].Entity.value_counts()"
   ]
  },
  {
   "cell_type": "code",
   "execution_count": null,
   "metadata": {},
   "outputs": [],
   "source": [
    "realms.head()"
   ]
  },
  {
   "cell_type": "code",
   "execution_count": null,
   "metadata": {},
   "outputs": [],
   "source": []
  }
 ],
 "metadata": {
  "kernelspec": {
   "display_name": "Python 3",
   "language": "python",
   "name": "python3"
  },
  "language_info": {
   "codemirror_mode": {
    "name": "ipython",
    "version": 3
   },
   "file_extension": ".py",
   "mimetype": "text/x-python",
   "name": "python",
   "nbconvert_exporter": "python",
   "pygments_lexer": "ipython3",
   "version": "3.7.4"
  }
 },
 "nbformat": 4,
 "nbformat_minor": 4
}
